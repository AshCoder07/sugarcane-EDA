{
 "cells": [
  {
   "cell_type": "code",
   "execution_count": 118,
   "id": "24ddb534-80d6-4861-a0fe-92a4edcf97d6",
   "metadata": {},
   "outputs": [],
   "source": [
    "import pandas as pd\n",
    "import seaborn as sns\n",
    "import numpy as np\n",
    "from matplotlib import pyplot as plt"
   ]
  },
  {
   "cell_type": "code",
   "execution_count": 41,
   "id": "ea4be76f-0778-4a44-9cc4-9c311e461626",
   "metadata": {},
   "outputs": [],
   "source": [
    "df=pd.read_csv(\"List of Countries by Sugarcane Production.csv\")"
   ]
  },
  {
   "cell_type": "code",
   "execution_count": 42,
   "id": "9d36e3bb-1739-4b91-bb86-4b9226761227",
   "metadata": {},
   "outputs": [
    {
     "data": {
      "text/html": [
       "<div>\n",
       "<style scoped>\n",
       "    .dataframe tbody tr th:only-of-type {\n",
       "        vertical-align: middle;\n",
       "    }\n",
       "\n",
       "    .dataframe tbody tr th {\n",
       "        vertical-align: top;\n",
       "    }\n",
       "\n",
       "    .dataframe thead th {\n",
       "        text-align: right;\n",
       "    }\n",
       "</style>\n",
       "<table border=\"1\" class=\"dataframe\">\n",
       "  <thead>\n",
       "    <tr style=\"text-align: right;\">\n",
       "      <th></th>\n",
       "      <th>Unnamed: 0</th>\n",
       "      <th>Country</th>\n",
       "      <th>Continent</th>\n",
       "      <th>Production (Tons)</th>\n",
       "      <th>Production per Person (Kg)</th>\n",
       "      <th>Acreage (Hectare)</th>\n",
       "      <th>Yield (Kg / Hectare)</th>\n",
       "    </tr>\n",
       "  </thead>\n",
       "  <tbody>\n",
       "    <tr>\n",
       "      <th>0</th>\n",
       "      <td>0</td>\n",
       "      <td>Brazil</td>\n",
       "      <td>South America</td>\n",
       "      <td>768.678.382</td>\n",
       "      <td>3.668,531</td>\n",
       "      <td>10.226.205</td>\n",
       "      <td>75.167,5</td>\n",
       "    </tr>\n",
       "    <tr>\n",
       "      <th>1</th>\n",
       "      <td>1</td>\n",
       "      <td>India</td>\n",
       "      <td>Asia</td>\n",
       "      <td>348.448.000</td>\n",
       "      <td>260721</td>\n",
       "      <td>4.950.000</td>\n",
       "      <td>70.393,5</td>\n",
       "    </tr>\n",
       "    <tr>\n",
       "      <th>2</th>\n",
       "      <td>2</td>\n",
       "      <td>China</td>\n",
       "      <td>Asia</td>\n",
       "      <td>123.059.739</td>\n",
       "      <td>88287</td>\n",
       "      <td>1.675.215</td>\n",
       "      <td>73.459,1</td>\n",
       "    </tr>\n",
       "    <tr>\n",
       "      <th>3</th>\n",
       "      <td>3</td>\n",
       "      <td>Thailand</td>\n",
       "      <td>Asia</td>\n",
       "      <td>87.468.496</td>\n",
       "      <td>1.264,303</td>\n",
       "      <td>1.336.575</td>\n",
       "      <td>65.442,2</td>\n",
       "    </tr>\n",
       "    <tr>\n",
       "      <th>4</th>\n",
       "      <td>4</td>\n",
       "      <td>Pakistan</td>\n",
       "      <td>Asia</td>\n",
       "      <td>65.450.704</td>\n",
       "      <td>324219</td>\n",
       "      <td>1.130.820</td>\n",
       "      <td>57.879</td>\n",
       "    </tr>\n",
       "  </tbody>\n",
       "</table>\n",
       "</div>"
      ],
      "text/plain": [
       "   Unnamed: 0   Country      Continent Production (Tons)  \\\n",
       "0           0    Brazil  South America       768.678.382   \n",
       "1           1     India           Asia       348.448.000   \n",
       "2           2     China           Asia       123.059.739   \n",
       "3           3  Thailand           Asia        87.468.496   \n",
       "4           4  Pakistan           Asia        65.450.704   \n",
       "\n",
       "  Production per Person (Kg) Acreage (Hectare) Yield (Kg / Hectare)  \n",
       "0                  3.668,531        10.226.205             75.167,5  \n",
       "1                     260721         4.950.000             70.393,5  \n",
       "2                      88287         1.675.215             73.459,1  \n",
       "3                  1.264,303         1.336.575             65.442,2  \n",
       "4                     324219         1.130.820               57.879  "
      ]
     },
     "execution_count": 42,
     "metadata": {},
     "output_type": "execute_result"
    }
   ],
   "source": [
    "df.head()"
   ]
  },
  {
   "cell_type": "code",
   "execution_count": 43,
   "id": "734981b0-bad3-4815-b5fa-dced5daafa55",
   "metadata": {},
   "outputs": [
    {
     "data": {
      "text/plain": [
       "(103, 7)"
      ]
     },
     "execution_count": 43,
     "metadata": {},
     "output_type": "execute_result"
    }
   ],
   "source": [
    "df.shape"
   ]
  },
  {
   "cell_type": "code",
   "execution_count": 44,
   "id": "eead79bd-b76d-4765-9890-fa275db21397",
   "metadata": {},
   "outputs": [
    {
     "name": "stdout",
     "output_type": "stream",
     "text": [
      "<class 'pandas.core.frame.DataFrame'>\n",
      "RangeIndex: 103 entries, 0 to 102\n",
      "Data columns (total 7 columns):\n",
      " #   Column                      Non-Null Count  Dtype \n",
      "---  ------                      --------------  ----- \n",
      " 0   Unnamed: 0                  103 non-null    int64 \n",
      " 1   Country                     103 non-null    object\n",
      " 2   Continent                   103 non-null    object\n",
      " 3   Production (Tons)           103 non-null    object\n",
      " 4   Production per Person (Kg)  103 non-null    object\n",
      " 5   Acreage (Hectare)           102 non-null    object\n",
      " 6   Yield (Kg / Hectare)        102 non-null    object\n",
      "dtypes: int64(1), object(6)\n",
      "memory usage: 5.8+ KB\n"
     ]
    }
   ],
   "source": [
    "df.info()"
   ]
  },
  {
   "cell_type": "markdown",
   "id": "14846b07-9329-4607-ac31-892ebb4e37f5",
   "metadata": {},
   "source": [
    "## Data Cleaning"
   ]
  },
  {
   "cell_type": "code",
   "execution_count": 46,
   "id": "e7401b1b-6be2-4ec3-8a1b-52bcf0514f3e",
   "metadata": {},
   "outputs": [],
   "source": [
    "df[\"Production (Tons)\"]=df[\"Production (Tons)\"].str.replace(\".\",\"\")\n",
    "df[\"Production per Person (Kg)\"]=df[\"Production per Person (Kg)\"].str.replace(\".\",\"\").str.replace(\",\",\".\")\n",
    "df[\"Acreage (Hectare)\"]=df[\"Acreage (Hectare)\"].str.replace(\".\",\"\")\n",
    "df[\"Yield (Kg / Hectare)\"]=df[\"Yield (Kg / Hectare)\"].str.replace(\".\",\"\").str.replace(\",\",\".\")"
   ]
  },
  {
   "cell_type": "code",
   "execution_count": 47,
   "id": "e83df90a-349c-4e3d-a35b-0ce8987503a1",
   "metadata": {},
   "outputs": [
    {
     "data": {
      "text/html": [
       "<div>\n",
       "<style scoped>\n",
       "    .dataframe tbody tr th:only-of-type {\n",
       "        vertical-align: middle;\n",
       "    }\n",
       "\n",
       "    .dataframe tbody tr th {\n",
       "        vertical-align: top;\n",
       "    }\n",
       "\n",
       "    .dataframe thead th {\n",
       "        text-align: right;\n",
       "    }\n",
       "</style>\n",
       "<table border=\"1\" class=\"dataframe\">\n",
       "  <thead>\n",
       "    <tr style=\"text-align: right;\">\n",
       "      <th></th>\n",
       "      <th>Unnamed: 0</th>\n",
       "      <th>Country</th>\n",
       "      <th>Continent</th>\n",
       "      <th>Production (Tons)</th>\n",
       "      <th>Production per Person (Kg)</th>\n",
       "      <th>Acreage (Hectare)</th>\n",
       "      <th>Yield (Kg / Hectare)</th>\n",
       "    </tr>\n",
       "  </thead>\n",
       "  <tbody>\n",
       "    <tr>\n",
       "      <th>0</th>\n",
       "      <td>0</td>\n",
       "      <td>Brazil</td>\n",
       "      <td>South America</td>\n",
       "      <td>768678382</td>\n",
       "      <td>3668531</td>\n",
       "      <td>10226205</td>\n",
       "      <td>751675</td>\n",
       "    </tr>\n",
       "    <tr>\n",
       "      <th>1</th>\n",
       "      <td>1</td>\n",
       "      <td>India</td>\n",
       "      <td>Asia</td>\n",
       "      <td>348448000</td>\n",
       "      <td>260721</td>\n",
       "      <td>4950000</td>\n",
       "      <td>703935</td>\n",
       "    </tr>\n",
       "    <tr>\n",
       "      <th>2</th>\n",
       "      <td>2</td>\n",
       "      <td>China</td>\n",
       "      <td>Asia</td>\n",
       "      <td>123059739</td>\n",
       "      <td>88287</td>\n",
       "      <td>1675215</td>\n",
       "      <td>734591</td>\n",
       "    </tr>\n",
       "    <tr>\n",
       "      <th>3</th>\n",
       "      <td>3</td>\n",
       "      <td>Thailand</td>\n",
       "      <td>Asia</td>\n",
       "      <td>87468496</td>\n",
       "      <td>1264303</td>\n",
       "      <td>1336575</td>\n",
       "      <td>654422</td>\n",
       "    </tr>\n",
       "    <tr>\n",
       "      <th>4</th>\n",
       "      <td>4</td>\n",
       "      <td>Pakistan</td>\n",
       "      <td>Asia</td>\n",
       "      <td>65450704</td>\n",
       "      <td>324219</td>\n",
       "      <td>1130820</td>\n",
       "      <td>57879</td>\n",
       "    </tr>\n",
       "  </tbody>\n",
       "</table>\n",
       "</div>"
      ],
      "text/plain": [
       "   Unnamed: 0   Country      Continent Production (Tons)  \\\n",
       "0           0    Brazil  South America         768678382   \n",
       "1           1     India           Asia         348448000   \n",
       "2           2     China           Asia         123059739   \n",
       "3           3  Thailand           Asia          87468496   \n",
       "4           4  Pakistan           Asia          65450704   \n",
       "\n",
       "  Production per Person (Kg) Acreage (Hectare) Yield (Kg / Hectare)  \n",
       "0                    3668531          10226205               751675  \n",
       "1                     260721           4950000               703935  \n",
       "2                      88287           1675215               734591  \n",
       "3                    1264303           1336575               654422  \n",
       "4                     324219           1130820                57879  "
      ]
     },
     "execution_count": 47,
     "metadata": {},
     "output_type": "execute_result"
    }
   ],
   "source": [
    "df.head()"
   ]
  },
  {
   "cell_type": "code",
   "execution_count": 48,
   "id": "f6755c60-8646-4410-a3b4-fa74367ffb22",
   "metadata": {},
   "outputs": [],
   "source": [
    "df.rename(columns={\"Production (Tons)\":\"Production(Tons)\"},inplace=True)\n",
    "df.rename(columns={\"Production per Person (Kg)\":\"Production_per_Person(Kg)\"},inplace=True)\n",
    "df.rename(columns={\"Acreage (Hectare)\":\"Acreage(Hectare)\"},inplace=True)\n",
    "df.rename(columns={\"Yield (Kg / Hectare)\":\"Yield(Kg/Hectare)\"},inplace=True)"
   ]
  },
  {
   "cell_type": "code",
   "execution_count": 49,
   "id": "a28d4686-6290-4468-92ab-635eb5505412",
   "metadata": {},
   "outputs": [
    {
     "data": {
      "text/html": [
       "<div>\n",
       "<style scoped>\n",
       "    .dataframe tbody tr th:only-of-type {\n",
       "        vertical-align: middle;\n",
       "    }\n",
       "\n",
       "    .dataframe tbody tr th {\n",
       "        vertical-align: top;\n",
       "    }\n",
       "\n",
       "    .dataframe thead th {\n",
       "        text-align: right;\n",
       "    }\n",
       "</style>\n",
       "<table border=\"1\" class=\"dataframe\">\n",
       "  <thead>\n",
       "    <tr style=\"text-align: right;\">\n",
       "      <th></th>\n",
       "      <th>Unnamed: 0</th>\n",
       "      <th>Country</th>\n",
       "      <th>Continent</th>\n",
       "      <th>Production(Tons)</th>\n",
       "      <th>Production_per_Person(Kg)</th>\n",
       "      <th>Acreage(Hectare)</th>\n",
       "      <th>Yield(Kg/Hectare)</th>\n",
       "    </tr>\n",
       "  </thead>\n",
       "  <tbody>\n",
       "    <tr>\n",
       "      <th>0</th>\n",
       "      <td>0</td>\n",
       "      <td>Brazil</td>\n",
       "      <td>South America</td>\n",
       "      <td>768678382</td>\n",
       "      <td>3668531</td>\n",
       "      <td>10226205</td>\n",
       "      <td>751675</td>\n",
       "    </tr>\n",
       "    <tr>\n",
       "      <th>1</th>\n",
       "      <td>1</td>\n",
       "      <td>India</td>\n",
       "      <td>Asia</td>\n",
       "      <td>348448000</td>\n",
       "      <td>260721</td>\n",
       "      <td>4950000</td>\n",
       "      <td>703935</td>\n",
       "    </tr>\n",
       "    <tr>\n",
       "      <th>2</th>\n",
       "      <td>2</td>\n",
       "      <td>China</td>\n",
       "      <td>Asia</td>\n",
       "      <td>123059739</td>\n",
       "      <td>88287</td>\n",
       "      <td>1675215</td>\n",
       "      <td>734591</td>\n",
       "    </tr>\n",
       "    <tr>\n",
       "      <th>3</th>\n",
       "      <td>3</td>\n",
       "      <td>Thailand</td>\n",
       "      <td>Asia</td>\n",
       "      <td>87468496</td>\n",
       "      <td>1264303</td>\n",
       "      <td>1336575</td>\n",
       "      <td>654422</td>\n",
       "    </tr>\n",
       "    <tr>\n",
       "      <th>4</th>\n",
       "      <td>4</td>\n",
       "      <td>Pakistan</td>\n",
       "      <td>Asia</td>\n",
       "      <td>65450704</td>\n",
       "      <td>324219</td>\n",
       "      <td>1130820</td>\n",
       "      <td>57879</td>\n",
       "    </tr>\n",
       "  </tbody>\n",
       "</table>\n",
       "</div>"
      ],
      "text/plain": [
       "   Unnamed: 0   Country      Continent Production(Tons)  \\\n",
       "0           0    Brazil  South America        768678382   \n",
       "1           1     India           Asia        348448000   \n",
       "2           2     China           Asia        123059739   \n",
       "3           3  Thailand           Asia         87468496   \n",
       "4           4  Pakistan           Asia         65450704   \n",
       "\n",
       "  Production_per_Person(Kg) Acreage(Hectare) Yield(Kg/Hectare)  \n",
       "0                   3668531         10226205            751675  \n",
       "1                    260721          4950000            703935  \n",
       "2                     88287          1675215            734591  \n",
       "3                   1264303          1336575            654422  \n",
       "4                    324219          1130820             57879  "
      ]
     },
     "execution_count": 49,
     "metadata": {},
     "output_type": "execute_result"
    }
   ],
   "source": [
    "df.head()"
   ]
  },
  {
   "cell_type": "code",
   "execution_count": 50,
   "id": "0fd89019-7d6b-4ae5-94cc-13d86e61f636",
   "metadata": {},
   "outputs": [
    {
     "data": {
      "text/plain": [
       "Unnamed: 0                   0\n",
       "Country                      0\n",
       "Continent                    0\n",
       "Production(Tons)             0\n",
       "Production_per_Person(Kg)    0\n",
       "Acreage(Hectare)             1\n",
       "Yield(Kg/Hectare)            1\n",
       "dtype: int64"
      ]
     },
     "execution_count": 50,
     "metadata": {},
     "output_type": "execute_result"
    }
   ],
   "source": [
    "df.isna().sum()"
   ]
  },
  {
   "cell_type": "code",
   "execution_count": 51,
   "id": "8486b183-79a9-44f4-b633-8ef438998b1c",
   "metadata": {},
   "outputs": [
    {
     "data": {
      "text/html": [
       "<div>\n",
       "<style scoped>\n",
       "    .dataframe tbody tr th:only-of-type {\n",
       "        vertical-align: middle;\n",
       "    }\n",
       "\n",
       "    .dataframe tbody tr th {\n",
       "        vertical-align: top;\n",
       "    }\n",
       "\n",
       "    .dataframe thead th {\n",
       "        text-align: right;\n",
       "    }\n",
       "</style>\n",
       "<table border=\"1\" class=\"dataframe\">\n",
       "  <thead>\n",
       "    <tr style=\"text-align: right;\">\n",
       "      <th></th>\n",
       "      <th>Unnamed: 0</th>\n",
       "      <th>Country</th>\n",
       "      <th>Continent</th>\n",
       "      <th>Production(Tons)</th>\n",
       "      <th>Production_per_Person(Kg)</th>\n",
       "      <th>Acreage(Hectare)</th>\n",
       "      <th>Yield(Kg/Hectare)</th>\n",
       "    </tr>\n",
       "  </thead>\n",
       "  <tbody>\n",
       "    <tr>\n",
       "      <th>99</th>\n",
       "      <td>99</td>\n",
       "      <td>Djibouti</td>\n",
       "      <td>Africa</td>\n",
       "      <td>53</td>\n",
       "      <td>51</td>\n",
       "      <td>NaN</td>\n",
       "      <td>NaN</td>\n",
       "    </tr>\n",
       "  </tbody>\n",
       "</table>\n",
       "</div>"
      ],
      "text/plain": [
       "    Unnamed: 0   Country Continent Production(Tons) Production_per_Person(Kg)  \\\n",
       "99          99  Djibouti    Africa               53                        51   \n",
       "\n",
       "   Acreage(Hectare) Yield(Kg/Hectare)  \n",
       "99              NaN               NaN  "
      ]
     },
     "execution_count": 51,
     "metadata": {},
     "output_type": "execute_result"
    }
   ],
   "source": [
    "df[df[\"Acreage(Hectare)\"].isna()]"
   ]
  },
  {
   "cell_type": "code",
   "execution_count": 52,
   "id": "252ae941-cca4-47ad-b369-42219c7ce422",
   "metadata": {},
   "outputs": [],
   "source": [
    "df=df.dropna().reset_index()"
   ]
  },
  {
   "cell_type": "code",
   "execution_count": 53,
   "id": "dee5eb41-2ce3-4a9c-9301-04bb486e7abb",
   "metadata": {},
   "outputs": [
    {
     "data": {
      "text/html": [
       "<div>\n",
       "<style scoped>\n",
       "    .dataframe tbody tr th:only-of-type {\n",
       "        vertical-align: middle;\n",
       "    }\n",
       "\n",
       "    .dataframe tbody tr th {\n",
       "        vertical-align: top;\n",
       "    }\n",
       "\n",
       "    .dataframe thead th {\n",
       "        text-align: right;\n",
       "    }\n",
       "</style>\n",
       "<table border=\"1\" class=\"dataframe\">\n",
       "  <thead>\n",
       "    <tr style=\"text-align: right;\">\n",
       "      <th></th>\n",
       "      <th>index</th>\n",
       "      <th>Unnamed: 0</th>\n",
       "      <th>Country</th>\n",
       "      <th>Continent</th>\n",
       "      <th>Production(Tons)</th>\n",
       "      <th>Production_per_Person(Kg)</th>\n",
       "      <th>Acreage(Hectare)</th>\n",
       "      <th>Yield(Kg/Hectare)</th>\n",
       "    </tr>\n",
       "  </thead>\n",
       "  <tbody>\n",
       "    <tr>\n",
       "      <th>0</th>\n",
       "      <td>0</td>\n",
       "      <td>0</td>\n",
       "      <td>Brazil</td>\n",
       "      <td>South America</td>\n",
       "      <td>768678382</td>\n",
       "      <td>3668531</td>\n",
       "      <td>10226205</td>\n",
       "      <td>751675</td>\n",
       "    </tr>\n",
       "    <tr>\n",
       "      <th>1</th>\n",
       "      <td>1</td>\n",
       "      <td>1</td>\n",
       "      <td>India</td>\n",
       "      <td>Asia</td>\n",
       "      <td>348448000</td>\n",
       "      <td>260721</td>\n",
       "      <td>4950000</td>\n",
       "      <td>703935</td>\n",
       "    </tr>\n",
       "    <tr>\n",
       "      <th>2</th>\n",
       "      <td>2</td>\n",
       "      <td>2</td>\n",
       "      <td>China</td>\n",
       "      <td>Asia</td>\n",
       "      <td>123059739</td>\n",
       "      <td>88287</td>\n",
       "      <td>1675215</td>\n",
       "      <td>734591</td>\n",
       "    </tr>\n",
       "    <tr>\n",
       "      <th>3</th>\n",
       "      <td>3</td>\n",
       "      <td>3</td>\n",
       "      <td>Thailand</td>\n",
       "      <td>Asia</td>\n",
       "      <td>87468496</td>\n",
       "      <td>1264303</td>\n",
       "      <td>1336575</td>\n",
       "      <td>654422</td>\n",
       "    </tr>\n",
       "    <tr>\n",
       "      <th>4</th>\n",
       "      <td>4</td>\n",
       "      <td>4</td>\n",
       "      <td>Pakistan</td>\n",
       "      <td>Asia</td>\n",
       "      <td>65450704</td>\n",
       "      <td>324219</td>\n",
       "      <td>1130820</td>\n",
       "      <td>57879</td>\n",
       "    </tr>\n",
       "    <tr>\n",
       "      <th>...</th>\n",
       "      <td>...</td>\n",
       "      <td>...</td>\n",
       "      <td>...</td>\n",
       "      <td>...</td>\n",
       "      <td>...</td>\n",
       "      <td>...</td>\n",
       "      <td>...</td>\n",
       "      <td>...</td>\n",
       "    </tr>\n",
       "    <tr>\n",
       "      <th>97</th>\n",
       "      <td>97</td>\n",
       "      <td>97</td>\n",
       "      <td>Spain</td>\n",
       "      <td>Europe</td>\n",
       "      <td>394</td>\n",
       "      <td>8</td>\n",
       "      <td>9</td>\n",
       "      <td>435965</td>\n",
       "    </tr>\n",
       "    <tr>\n",
       "      <th>98</th>\n",
       "      <td>98</td>\n",
       "      <td>98</td>\n",
       "      <td>Lebanon</td>\n",
       "      <td>Asia</td>\n",
       "      <td>97</td>\n",
       "      <td>16</td>\n",
       "      <td>3</td>\n",
       "      <td>283864</td>\n",
       "    </tr>\n",
       "    <tr>\n",
       "      <th>99</th>\n",
       "      <td>100</td>\n",
       "      <td>100</td>\n",
       "      <td>Singapore</td>\n",
       "      <td>Asia</td>\n",
       "      <td>50</td>\n",
       "      <td>9</td>\n",
       "      <td>2</td>\n",
       "      <td>25</td>\n",
       "    </tr>\n",
       "    <tr>\n",
       "      <th>100</th>\n",
       "      <td>101</td>\n",
       "      <td>101</td>\n",
       "      <td>Samoa</td>\n",
       "      <td>Oceania</td>\n",
       "      <td>12</td>\n",
       "      <td>6</td>\n",
       "      <td>1</td>\n",
       "      <td>119498</td>\n",
       "    </tr>\n",
       "    <tr>\n",
       "      <th>101</th>\n",
       "      <td>102</td>\n",
       "      <td>102</td>\n",
       "      <td>Syria</td>\n",
       "      <td>Asia</td>\n",
       "      <td>1</td>\n",
       "      <td>0</td>\n",
       "      <td>0</td>\n",
       "      <td>830342</td>\n",
       "    </tr>\n",
       "  </tbody>\n",
       "</table>\n",
       "<p>102 rows × 8 columns</p>\n",
       "</div>"
      ],
      "text/plain": [
       "     index  Unnamed: 0    Country      Continent Production(Tons)  \\\n",
       "0        0           0     Brazil  South America        768678382   \n",
       "1        1           1      India           Asia        348448000   \n",
       "2        2           2      China           Asia        123059739   \n",
       "3        3           3   Thailand           Asia         87468496   \n",
       "4        4           4   Pakistan           Asia         65450704   \n",
       "..     ...         ...        ...            ...              ...   \n",
       "97      97          97      Spain         Europe              394   \n",
       "98      98          98    Lebanon           Asia               97   \n",
       "99     100         100  Singapore           Asia               50   \n",
       "100    101         101      Samoa        Oceania               12   \n",
       "101    102         102      Syria           Asia                1   \n",
       "\n",
       "    Production_per_Person(Kg) Acreage(Hectare) Yield(Kg/Hectare)  \n",
       "0                     3668531         10226205            751675  \n",
       "1                      260721          4950000            703935  \n",
       "2                       88287          1675215            734591  \n",
       "3                     1264303          1336575            654422  \n",
       "4                      324219          1130820             57879  \n",
       "..                        ...              ...               ...  \n",
       "97                          8                9            435965  \n",
       "98                         16                3            283864  \n",
       "99                          9                2                25  \n",
       "100                         6                1            119498  \n",
       "101                         0                0            830342  \n",
       "\n",
       "[102 rows x 8 columns]"
      ]
     },
     "execution_count": 53,
     "metadata": {},
     "output_type": "execute_result"
    }
   ],
   "source": [
    "df"
   ]
  },
  {
   "cell_type": "code",
   "execution_count": 54,
   "id": "e4462470-ced5-418a-93b3-864d621b2843",
   "metadata": {},
   "outputs": [],
   "source": [
    "df.drop([\"index\",\"Unnamed: 0\"],axis=1,inplace=True)"
   ]
  },
  {
   "cell_type": "code",
   "execution_count": 55,
   "id": "8293e420-bf51-4a36-af57-f0b8a50945f7",
   "metadata": {},
   "outputs": [
    {
     "data": {
      "text/html": [
       "<div>\n",
       "<style scoped>\n",
       "    .dataframe tbody tr th:only-of-type {\n",
       "        vertical-align: middle;\n",
       "    }\n",
       "\n",
       "    .dataframe tbody tr th {\n",
       "        vertical-align: top;\n",
       "    }\n",
       "\n",
       "    .dataframe thead th {\n",
       "        text-align: right;\n",
       "    }\n",
       "</style>\n",
       "<table border=\"1\" class=\"dataframe\">\n",
       "  <thead>\n",
       "    <tr style=\"text-align: right;\">\n",
       "      <th></th>\n",
       "      <th>Country</th>\n",
       "      <th>Continent</th>\n",
       "      <th>Production(Tons)</th>\n",
       "      <th>Production_per_Person(Kg)</th>\n",
       "      <th>Acreage(Hectare)</th>\n",
       "      <th>Yield(Kg/Hectare)</th>\n",
       "    </tr>\n",
       "  </thead>\n",
       "  <tbody>\n",
       "    <tr>\n",
       "      <th>0</th>\n",
       "      <td>Brazil</td>\n",
       "      <td>South America</td>\n",
       "      <td>768678382</td>\n",
       "      <td>3668531</td>\n",
       "      <td>10226205</td>\n",
       "      <td>751675</td>\n",
       "    </tr>\n",
       "    <tr>\n",
       "      <th>1</th>\n",
       "      <td>India</td>\n",
       "      <td>Asia</td>\n",
       "      <td>348448000</td>\n",
       "      <td>260721</td>\n",
       "      <td>4950000</td>\n",
       "      <td>703935</td>\n",
       "    </tr>\n",
       "    <tr>\n",
       "      <th>2</th>\n",
       "      <td>China</td>\n",
       "      <td>Asia</td>\n",
       "      <td>123059739</td>\n",
       "      <td>88287</td>\n",
       "      <td>1675215</td>\n",
       "      <td>734591</td>\n",
       "    </tr>\n",
       "    <tr>\n",
       "      <th>3</th>\n",
       "      <td>Thailand</td>\n",
       "      <td>Asia</td>\n",
       "      <td>87468496</td>\n",
       "      <td>1264303</td>\n",
       "      <td>1336575</td>\n",
       "      <td>654422</td>\n",
       "    </tr>\n",
       "    <tr>\n",
       "      <th>4</th>\n",
       "      <td>Pakistan</td>\n",
       "      <td>Asia</td>\n",
       "      <td>65450704</td>\n",
       "      <td>324219</td>\n",
       "      <td>1130820</td>\n",
       "      <td>57879</td>\n",
       "    </tr>\n",
       "  </tbody>\n",
       "</table>\n",
       "</div>"
      ],
      "text/plain": [
       "    Country      Continent Production(Tons) Production_per_Person(Kg)  \\\n",
       "0    Brazil  South America        768678382                   3668531   \n",
       "1     India           Asia        348448000                    260721   \n",
       "2     China           Asia        123059739                     88287   \n",
       "3  Thailand           Asia         87468496                   1264303   \n",
       "4  Pakistan           Asia         65450704                    324219   \n",
       "\n",
       "  Acreage(Hectare) Yield(Kg/Hectare)  \n",
       "0         10226205            751675  \n",
       "1          4950000            703935  \n",
       "2          1675215            734591  \n",
       "3          1336575            654422  \n",
       "4          1130820             57879  "
      ]
     },
     "execution_count": 55,
     "metadata": {},
     "output_type": "execute_result"
    }
   ],
   "source": [
    "df.head()"
   ]
  },
  {
   "cell_type": "code",
   "execution_count": 56,
   "id": "87ac905d-2926-423d-a7fa-2e3f9b246cbb",
   "metadata": {},
   "outputs": [
    {
     "data": {
      "text/plain": [
       "Country                      object\n",
       "Continent                    object\n",
       "Production(Tons)             object\n",
       "Production_per_Person(Kg)    object\n",
       "Acreage(Hectare)             object\n",
       "Yield(Kg/Hectare)            object\n",
       "dtype: object"
      ]
     },
     "execution_count": 56,
     "metadata": {},
     "output_type": "execute_result"
    }
   ],
   "source": [
    "df.dtypes"
   ]
  },
  {
   "cell_type": "code",
   "execution_count": 57,
   "id": "ce58aec0-4751-4200-b4ab-f63b90df385a",
   "metadata": {},
   "outputs": [],
   "source": [
    "df[\"Production(Tons)\"]=df[\"Production(Tons)\"].astype(\"float\")\n",
    "df[\"Production_per_Person(Kg)\"]=df[\"Production_per_Person(Kg)\"].astype(\"float\")\n",
    "df[\"Acreage(Hectare)\"]=df[\"Acreage(Hectare)\"].astype(\"float\")\n",
    "df[\"Yield(Kg/Hectare)\"]=df[\"Yield(Kg/Hectare)\"].astype(\"float\")\n"
   ]
  },
  {
   "cell_type": "code",
   "execution_count": 58,
   "id": "d9ecbfe2-bcbe-43c0-999a-7a56ff331dbd",
   "metadata": {},
   "outputs": [
    {
     "data": {
      "text/plain": [
       "Country                       object\n",
       "Continent                     object\n",
       "Production(Tons)             float64\n",
       "Production_per_Person(Kg)    float64\n",
       "Acreage(Hectare)             float64\n",
       "Yield(Kg/Hectare)            float64\n",
       "dtype: object"
      ]
     },
     "execution_count": 58,
     "metadata": {},
     "output_type": "execute_result"
    }
   ],
   "source": [
    "df.dtypes"
   ]
  },
  {
   "cell_type": "code",
   "execution_count": 59,
   "id": "62938d8d-5721-4360-8cc0-958d4c2d82b8",
   "metadata": {},
   "outputs": [
    {
     "data": {
      "text/plain": [
       "Country                      102\n",
       "Continent                      6\n",
       "Production(Tons)             102\n",
       "Production_per_Person(Kg)    101\n",
       "Acreage(Hectare)             101\n",
       "Yield(Kg/Hectare)            102\n",
       "dtype: int64"
      ]
     },
     "execution_count": 59,
     "metadata": {},
     "output_type": "execute_result"
    }
   ],
   "source": [
    "df.nunique()"
   ]
  },
  {
   "cell_type": "markdown",
   "id": "e9ad75d3-2d6f-42e3-91b7-1f12f8e71263",
   "metadata": {},
   "source": [
    "## Univariate Analysis"
   ]
  },
  {
   "cell_type": "code",
   "execution_count": 60,
   "id": "aadcd936-0c26-44e4-b72c-d066c9e17b7e",
   "metadata": {},
   "outputs": [
    {
     "data": {
      "text/html": [
       "<div>\n",
       "<style scoped>\n",
       "    .dataframe tbody tr th:only-of-type {\n",
       "        vertical-align: middle;\n",
       "    }\n",
       "\n",
       "    .dataframe tbody tr th {\n",
       "        vertical-align: top;\n",
       "    }\n",
       "\n",
       "    .dataframe thead th {\n",
       "        text-align: right;\n",
       "    }\n",
       "</style>\n",
       "<table border=\"1\" class=\"dataframe\">\n",
       "  <thead>\n",
       "    <tr style=\"text-align: right;\">\n",
       "      <th></th>\n",
       "      <th>Country</th>\n",
       "      <th>Continent</th>\n",
       "      <th>Production(Tons)</th>\n",
       "      <th>Production_per_Person(Kg)</th>\n",
       "      <th>Acreage(Hectare)</th>\n",
       "      <th>Yield(Kg/Hectare)</th>\n",
       "    </tr>\n",
       "  </thead>\n",
       "  <tbody>\n",
       "    <tr>\n",
       "      <th>0</th>\n",
       "      <td>Brazil</td>\n",
       "      <td>South America</td>\n",
       "      <td>768678382.0</td>\n",
       "      <td>3668531.0</td>\n",
       "      <td>10226205.0</td>\n",
       "      <td>751675.0</td>\n",
       "    </tr>\n",
       "    <tr>\n",
       "      <th>1</th>\n",
       "      <td>India</td>\n",
       "      <td>Asia</td>\n",
       "      <td>348448000.0</td>\n",
       "      <td>260721.0</td>\n",
       "      <td>4950000.0</td>\n",
       "      <td>703935.0</td>\n",
       "    </tr>\n",
       "    <tr>\n",
       "      <th>2</th>\n",
       "      <td>China</td>\n",
       "      <td>Asia</td>\n",
       "      <td>123059739.0</td>\n",
       "      <td>88287.0</td>\n",
       "      <td>1675215.0</td>\n",
       "      <td>734591.0</td>\n",
       "    </tr>\n",
       "    <tr>\n",
       "      <th>3</th>\n",
       "      <td>Thailand</td>\n",
       "      <td>Asia</td>\n",
       "      <td>87468496.0</td>\n",
       "      <td>1264303.0</td>\n",
       "      <td>1336575.0</td>\n",
       "      <td>654422.0</td>\n",
       "    </tr>\n",
       "    <tr>\n",
       "      <th>4</th>\n",
       "      <td>Pakistan</td>\n",
       "      <td>Asia</td>\n",
       "      <td>65450704.0</td>\n",
       "      <td>324219.0</td>\n",
       "      <td>1130820.0</td>\n",
       "      <td>57879.0</td>\n",
       "    </tr>\n",
       "  </tbody>\n",
       "</table>\n",
       "</div>"
      ],
      "text/plain": [
       "    Country      Continent  Production(Tons)  Production_per_Person(Kg)  \\\n",
       "0    Brazil  South America       768678382.0                  3668531.0   \n",
       "1     India           Asia       348448000.0                   260721.0   \n",
       "2     China           Asia       123059739.0                    88287.0   \n",
       "3  Thailand           Asia        87468496.0                  1264303.0   \n",
       "4  Pakistan           Asia        65450704.0                   324219.0   \n",
       "\n",
       "   Acreage(Hectare)  Yield(Kg/Hectare)  \n",
       "0        10226205.0           751675.0  \n",
       "1         4950000.0           703935.0  \n",
       "2         1675215.0           734591.0  \n",
       "3         1336575.0           654422.0  \n",
       "4         1130820.0            57879.0  "
      ]
     },
     "execution_count": 60,
     "metadata": {},
     "output_type": "execute_result"
    }
   ],
   "source": [
    "df.head()"
   ]
  },
  {
   "cell_type": "markdown",
   "id": "4343b14c-a47d-4aac-8873-1f3bf544fd3b",
   "metadata": {},
   "source": [
    "### 1. How many Countries produce sugarcane from each continent?"
   ]
  },
  {
   "cell_type": "code",
   "execution_count": 61,
   "id": "cc0c707c-70ac-473f-8ebd-387c9698f336",
   "metadata": {},
   "outputs": [
    {
     "data": {
      "text/plain": [
       "Continent\n",
       "Africa           38\n",
       "Asia             25\n",
       "North America    22\n",
       "South America    11\n",
       "Oceania           4\n",
       "Europe            2\n",
       "Name: count, dtype: int64"
      ]
     },
     "execution_count": 61,
     "metadata": {},
     "output_type": "execute_result"
    }
   ],
   "source": [
    "df[\"Continent\"].value_counts()"
   ]
  },
  {
   "cell_type": "code",
   "execution_count": 62,
   "id": "ba36fb99-a05c-4f28-af01-4100afa369a8",
   "metadata": {},
   "outputs": [
    {
     "data": {
      "text/plain": [
       "<Axes: xlabel='Continent'>"
      ]
     },
     "execution_count": 62,
     "metadata": {},
     "output_type": "execute_result"
    },
    {
     "data": {
      "image/png": "[encoded data removed]",
      "text/plain": [
       "<Figure size 640x480 with 1 Axes>"
      ]
     },
     "metadata": {},
     "output_type": "display_data"
    }
   ],
   "source": [
    "df[\"Continent\"].value_counts().plot(kind=\"bar\")"
   ]
  },
  {
   "cell_type": "markdown",
   "id": "3487068d-6e00-4eb2-b0db-bb2f596f098f",
   "metadata": {},
   "source": [
    "### Distribution of Columns"
   ]
  },
  {
   "cell_type": "code",
   "execution_count": 69,
   "id": "6bb2e11d-8cb9-452c-b9fa-ff62fc4526a8",
   "metadata": {},
   "outputs": [
    {
     "name": "stderr",
     "output_type": "stream",
     "text": [
      "C:\\Users\\aswin\\AppData\\Local\\Temp\\ipykernel_71936\\2966165919.py:3: UserWarning: \n",
      "\n",
      "`distplot` is a deprecated function and will be removed in seaborn v0.14.0.\n",
      "\n",
      "Please adapt your code to use either `displot` (a figure-level function with\n",
      "similar flexibility) or `histplot` (an axes-level function for histograms).\n",
      "\n",
      "For a guide to updating your code to use the new functions, please see\n",
      "https://gist.github.com/mwaskom/de44147ed2974457ad6372750bbe5751\n",
      "\n",
      "  sns.distplot(df[\"Production(Tons)\"])\n",
      "C:\\Users\\aswin\\AppData\\Local\\Temp\\ipykernel_71936\\2966165919.py:5: UserWarning: \n",
      "\n",
      "`distplot` is a deprecated function and will be removed in seaborn v0.14.0.\n",
      "\n",
      "Please adapt your code to use either `displot` (a figure-level function with\n",
      "similar flexibility) or `histplot` (an axes-level function for histograms).\n",
      "\n",
      "For a guide to updating your code to use the new functions, please see\n",
      "https://gist.github.com/mwaskom/de44147ed2974457ad6372750bbe5751\n",
      "\n",
      "  sns.distplot(df[\"Production_per_Person(Kg)\"])\n",
      "C:\\Users\\aswin\\AppData\\Local\\Temp\\ipykernel_71936\\2966165919.py:7: UserWarning: \n",
      "\n",
      "`distplot` is a deprecated function and will be removed in seaborn v0.14.0.\n",
      "\n",
      "Please adapt your code to use either `displot` (a figure-level function with\n",
      "similar flexibility) or `histplot` (an axes-level function for histograms).\n",
      "\n",
      "For a guide to updating your code to use the new functions, please see\n",
      "https://gist.github.com/mwaskom/de44147ed2974457ad6372750bbe5751\n",
      "\n",
      "  sns.distplot(df[\"Acreage(Hectare)\"])\n",
      "C:\\Users\\aswin\\AppData\\Local\\Temp\\ipykernel_71936\\2966165919.py:9: UserWarning: \n",
      "\n",
      "`distplot` is a deprecated function and will be removed in seaborn v0.14.0.\n",
      "\n",
      "Please adapt your code to use either `displot` (a figure-level function with\n",
      "similar flexibility) or `histplot` (an axes-level function for histograms).\n",
      "\n",
      "For a guide to updating your code to use the new functions, please see\n",
      "https://gist.github.com/mwaskom/de44147ed2974457ad6372750bbe5751\n",
      "\n",
      "  sns.distplot(df[\"Yield(Kg/Hectare)\"])\n"
     ]
    },
    {
     "data": {
      "text/plain": [
       "<Axes: xlabel='Yield(Kg/Hectare)', ylabel='Density'>"
      ]
     },
     "execution_count": 69,
     "metadata": {},
     "output_type": "execute_result"
    },
    {
     "data": {
      "image/png": "[encoded data removed]",
      "text/plain": [
       "<Figure size 1600x800 with 4 Axes>"
      ]
     },
     "metadata": {},
     "output_type": "display_data"
    }
   ],
   "source": [
    "plt.figure(figsize=(16,8))\n",
    "plt.subplot(2,2,1)\n",
    "sns.distplot(df[\"Production(Tons)\"])\n",
    "plt.subplot(2,2,2)\n",
    "sns.distplot(df[\"Production_per_Person(Kg)\"])\n",
    "plt.subplot(2,2,3)\n",
    "sns.distplot(df[\"Acreage(Hectare)\"])\n",
    "plt.subplot(2,2,4)\n",
    "sns.distplot(df[\"Yield(Kg/Hectare)\"])"
   ]
  },
  {
   "cell_type": "markdown",
   "id": "93652a19-810d-4efc-be78-dc1f89a78652",
   "metadata": {},
   "source": [
    "## Checking for outliers"
   ]
  },
  {
   "cell_type": "code",
   "execution_count": null,
   "id": "293df418-2fe4-422a-b601-4e9ddae52d54",
   "metadata": {},
   "outputs": [],
   "source": [
    "plt.figure(figsize=(16,8))\n",
    "plt.subplot(2,2,1)\n",
    "sns.boxplot(df[\"Production(Tons)\"])\n",
    "plt.subplot(2,2,2)\n",
    "sns.boxplot(df[\"Production_per_Person(Kg)\"])\n",
    "plt.subplot(2,2,3)\n",
    "sns.boxplot(df[\"Acreage(Hectare)\"])\n",
    "plt.subplot(2,2,4)\n",
    "sns.boxplot(df[\"Yield(Kg/Hectare)\"])"
   ]
  },
  {
   "cell_type": "code",
   "execution_count": 71,
   "id": "85f3806b-fb04-47d0-b734-16a63528b1c8",
   "metadata": {},
   "outputs": [
    {
     "data": {
      "text/html": [
       "<div>\n",
       "<style scoped>\n",
       "    .dataframe tbody tr th:only-of-type {\n",
       "        vertical-align: middle;\n",
       "    }\n",
       "\n",
       "    .dataframe tbody tr th {\n",
       "        vertical-align: top;\n",
       "    }\n",
       "\n",
       "    .dataframe thead th {\n",
       "        text-align: right;\n",
       "    }\n",
       "</style>\n",
       "<table border=\"1\" class=\"dataframe\">\n",
       "  <thead>\n",
       "    <tr style=\"text-align: right;\">\n",
       "      <th></th>\n",
       "      <th>Production(Tons)</th>\n",
       "      <th>Production_per_Person(Kg)</th>\n",
       "      <th>Acreage(Hectare)</th>\n",
       "      <th>Yield(Kg/Hectare)</th>\n",
       "    </tr>\n",
       "  </thead>\n",
       "  <tbody>\n",
       "    <tr>\n",
       "      <th>count</th>\n",
       "      <td>1.020000e+02</td>\n",
       "      <td>1.020000e+02</td>\n",
       "      <td>1.020000e+02</td>\n",
       "      <td>1.020000e+02</td>\n",
       "    </tr>\n",
       "    <tr>\n",
       "      <th>mean</th>\n",
       "      <td>1.850372e+07</td>\n",
       "      <td>4.124805e+05</td>\n",
       "      <td>2.498981e+05</td>\n",
       "      <td>5.018502e+05</td>\n",
       "    </tr>\n",
       "    <tr>\n",
       "      <th>std</th>\n",
       "      <td>8.419149e+07</td>\n",
       "      <td>8.669140e+05</td>\n",
       "      <td>1.137003e+06</td>\n",
       "      <td>3.169530e+05</td>\n",
       "    </tr>\n",
       "    <tr>\n",
       "      <th>min</th>\n",
       "      <td>1.000000e+00</td>\n",
       "      <td>0.000000e+00</td>\n",
       "      <td>0.000000e+00</td>\n",
       "      <td>1.000000e+01</td>\n",
       "    </tr>\n",
       "    <tr>\n",
       "      <th>25%</th>\n",
       "      <td>6.251875e+04</td>\n",
       "      <td>1.075225e+04</td>\n",
       "      <td>1.104000e+03</td>\n",
       "      <td>2.487505e+05</td>\n",
       "    </tr>\n",
       "    <tr>\n",
       "      <th>50%</th>\n",
       "      <td>1.440044e+06</td>\n",
       "      <td>8.135850e+04</td>\n",
       "      <td>1.655800e+04</td>\n",
       "      <td>5.102500e+05</td>\n",
       "    </tr>\n",
       "    <tr>\n",
       "      <th>75%</th>\n",
       "      <td>6.426824e+06</td>\n",
       "      <td>2.828128e+05</td>\n",
       "      <td>8.047400e+04</td>\n",
       "      <td>7.198920e+05</td>\n",
       "    </tr>\n",
       "    <tr>\n",
       "      <th>max</th>\n",
       "      <td>7.686784e+08</td>\n",
       "      <td>4.816299e+06</td>\n",
       "      <td>1.022620e+07</td>\n",
       "      <td>1.290493e+06</td>\n",
       "    </tr>\n",
       "  </tbody>\n",
       "</table>\n",
       "</div>"
      ],
      "text/plain": [
       "       Production(Tons)  Production_per_Person(Kg)  Acreage(Hectare)  \\\n",
       "count      1.020000e+02               1.020000e+02      1.020000e+02   \n",
       "mean       1.850372e+07               4.124805e+05      2.498981e+05   \n",
       "std        8.419149e+07               8.669140e+05      1.137003e+06   \n",
       "min        1.000000e+00               0.000000e+00      0.000000e+00   \n",
       "25%        6.251875e+04               1.075225e+04      1.104000e+03   \n",
       "50%        1.440044e+06               8.135850e+04      1.655800e+04   \n",
       "75%        6.426824e+06               2.828128e+05      8.047400e+04   \n",
       "max        7.686784e+08               4.816299e+06      1.022620e+07   \n",
       "\n",
       "       Yield(Kg/Hectare)  \n",
       "count       1.020000e+02  \n",
       "mean        5.018502e+05  \n",
       "std         3.169530e+05  \n",
       "min         1.000000e+01  \n",
       "25%         2.487505e+05  \n",
       "50%         5.102500e+05  \n",
       "75%         7.198920e+05  \n",
       "max         1.290493e+06  "
      ]
     },
     "execution_count": 71,
     "metadata": {},
     "output_type": "execute_result"
    }
   ],
   "source": [
    "df.describe()"
   ]
  },
  {
   "cell_type": "markdown",
   "id": "d5adba39-08be-4497-ae90-b721ad4762c0",
   "metadata": {},
   "source": [
    "## Bivariate analysis"
   ]
  },
  {
   "cell_type": "code",
   "execution_count": 72,
   "id": "394194b8-090f-4d3d-a25d-f379983b932a",
   "metadata": {},
   "outputs": [
    {
     "data": {
      "text/html": [
       "<div>\n",
       "<style scoped>\n",
       "    .dataframe tbody tr th:only-of-type {\n",
       "        vertical-align: middle;\n",
       "    }\n",
       "\n",
       "    .dataframe tbody tr th {\n",
       "        vertical-align: top;\n",
       "    }\n",
       "\n",
       "    .dataframe thead th {\n",
       "        text-align: right;\n",
       "    }\n",
       "</style>\n",
       "<table border=\"1\" class=\"dataframe\">\n",
       "  <thead>\n",
       "    <tr style=\"text-align: right;\">\n",
       "      <th></th>\n",
       "      <th>Country</th>\n",
       "      <th>Continent</th>\n",
       "      <th>Production(Tons)</th>\n",
       "      <th>Production_per_Person(Kg)</th>\n",
       "      <th>Acreage(Hectare)</th>\n",
       "      <th>Yield(Kg/Hectare)</th>\n",
       "    </tr>\n",
       "  </thead>\n",
       "  <tbody>\n",
       "    <tr>\n",
       "      <th>0</th>\n",
       "      <td>Brazil</td>\n",
       "      <td>South America</td>\n",
       "      <td>768678382.0</td>\n",
       "      <td>3668531.0</td>\n",
       "      <td>10226205.0</td>\n",
       "      <td>751675.0</td>\n",
       "    </tr>\n",
       "    <tr>\n",
       "      <th>1</th>\n",
       "      <td>India</td>\n",
       "      <td>Asia</td>\n",
       "      <td>348448000.0</td>\n",
       "      <td>260721.0</td>\n",
       "      <td>4950000.0</td>\n",
       "      <td>703935.0</td>\n",
       "    </tr>\n",
       "    <tr>\n",
       "      <th>2</th>\n",
       "      <td>China</td>\n",
       "      <td>Asia</td>\n",
       "      <td>123059739.0</td>\n",
       "      <td>88287.0</td>\n",
       "      <td>1675215.0</td>\n",
       "      <td>734591.0</td>\n",
       "    </tr>\n",
       "    <tr>\n",
       "      <th>3</th>\n",
       "      <td>Thailand</td>\n",
       "      <td>Asia</td>\n",
       "      <td>87468496.0</td>\n",
       "      <td>1264303.0</td>\n",
       "      <td>1336575.0</td>\n",
       "      <td>654422.0</td>\n",
       "    </tr>\n",
       "    <tr>\n",
       "      <th>4</th>\n",
       "      <td>Pakistan</td>\n",
       "      <td>Asia</td>\n",
       "      <td>65450704.0</td>\n",
       "      <td>324219.0</td>\n",
       "      <td>1130820.0</td>\n",
       "      <td>57879.0</td>\n",
       "    </tr>\n",
       "  </tbody>\n",
       "</table>\n",
       "</div>"
      ],
      "text/plain": [
       "    Country      Continent  Production(Tons)  Production_per_Person(Kg)  \\\n",
       "0    Brazil  South America       768678382.0                  3668531.0   \n",
       "1     India           Asia       348448000.0                   260721.0   \n",
       "2     China           Asia       123059739.0                    88287.0   \n",
       "3  Thailand           Asia        87468496.0                  1264303.0   \n",
       "4  Pakistan           Asia        65450704.0                   324219.0   \n",
       "\n",
       "   Acreage(Hectare)  Yield(Kg/Hectare)  \n",
       "0        10226205.0           751675.0  \n",
       "1         4950000.0           703935.0  \n",
       "2         1675215.0           734591.0  \n",
       "3         1336575.0           654422.0  \n",
       "4         1130820.0            57879.0  "
      ]
     },
     "execution_count": 72,
     "metadata": {},
     "output_type": "execute_result"
    }
   ],
   "source": [
    "df.head()"
   ]
  },
  {
   "cell_type": "markdown",
   "id": "4d32060c-3e39-4b91-ad6f-b0350c769fb3",
   "metadata": {},
   "source": [
    "## Which Country produces maximum sugarcane?"
   ]
  },
  {
   "cell_type": "code",
   "execution_count": 169,
   "id": "88403235-46a5-475d-a3b6-d10ac113c065",
   "metadata": {},
   "outputs": [],
   "source": [
    "df_new=df[[\"Country\",\"Production(Tons)\"]].set_index(\"Country\")"
   ]
  },
  {
   "cell_type": "code",
   "execution_count": 170,
   "id": "72243682-5828-43e8-b8ee-07f8bb697339",
   "metadata": {},
   "outputs": [
    {
     "data": {
      "text/html": [
       "<div>\n",
       "<style scoped>\n",
       "    .dataframe tbody tr th:only-of-type {\n",
       "        vertical-align: middle;\n",
       "    }\n",
       "\n",
       "    .dataframe tbody tr th {\n",
       "        vertical-align: top;\n",
       "    }\n",
       "\n",
       "    .dataframe thead th {\n",
       "        text-align: right;\n",
       "    }\n",
       "</style>\n",
       "<table border=\"1\" class=\"dataframe\">\n",
       "  <thead>\n",
       "    <tr style=\"text-align: right;\">\n",
       "      <th></th>\n",
       "      <th>Production(Tons)</th>\n",
       "    </tr>\n",
       "    <tr>\n",
       "      <th>Country</th>\n",
       "      <th></th>\n",
       "    </tr>\n",
       "  </thead>\n",
       "  <tbody>\n",
       "    <tr>\n",
       "      <th>Brazil</th>\n",
       "      <td>768678382.0</td>\n",
       "    </tr>\n",
       "    <tr>\n",
       "      <th>India</th>\n",
       "      <td>348448000.0</td>\n",
       "    </tr>\n",
       "    <tr>\n",
       "      <th>China</th>\n",
       "      <td>123059739.0</td>\n",
       "    </tr>\n",
       "    <tr>\n",
       "      <th>Thailand</th>\n",
       "      <td>87468496.0</td>\n",
       "    </tr>\n",
       "    <tr>\n",
       "      <th>Pakistan</th>\n",
       "      <td>65450704.0</td>\n",
       "    </tr>\n",
       "  </tbody>\n",
       "</table>\n",
       "</div>"
      ],
      "text/plain": [
       "          Production(Tons)\n",
       "Country                   \n",
       "Brazil         768678382.0\n",
       "India          348448000.0\n",
       "China          123059739.0\n",
       "Thailand        87468496.0\n",
       "Pakistan        65450704.0"
      ]
     },
     "execution_count": 170,
     "metadata": {},
     "output_type": "execute_result"
    }
   ],
   "source": [
    "df_new.head()"
   ]
  },
  {
   "cell_type": "code",
   "execution_count": 171,
   "id": "9cceea61-cf73-44a5-bdeb-d2de0f80173a",
   "metadata": {},
   "outputs": [],
   "source": [
    "df_new[\"Production(Tons)_Percentage\"]=df_new[\"Production(Tons)\"]*100/df_new[\"Production(Tons)\"].sum()"
   ]
  },
  {
   "cell_type": "code",
   "execution_count": 172,
   "id": "c049dffc-f92f-447a-96ee-b466af5c47c8",
   "metadata": {},
   "outputs": [
    {
     "data": {
      "text/html": [
       "<div>\n",
       "<style scoped>\n",
       "    .dataframe tbody tr th:only-of-type {\n",
       "        vertical-align: middle;\n",
       "    }\n",
       "\n",
       "    .dataframe tbody tr th {\n",
       "        vertical-align: top;\n",
       "    }\n",
       "\n",
       "    .dataframe thead th {\n",
       "        text-align: right;\n",
       "    }\n",
       "</style>\n",
       "<table border=\"1\" class=\"dataframe\">\n",
       "  <thead>\n",
       "    <tr style=\"text-align: right;\">\n",
       "      <th></th>\n",
       "      <th>Production(Tons)</th>\n",
       "      <th>Production(Tons)_Percentage</th>\n",
       "    </tr>\n",
       "    <tr>\n",
       "      <th>Country</th>\n",
       "      <th></th>\n",
       "      <th></th>\n",
       "    </tr>\n",
       "  </thead>\n",
       "  <tbody>\n",
       "    <tr>\n",
       "      <th>Brazil</th>\n",
       "      <td>768678382.0</td>\n",
       "      <td>40.727285</td>\n",
       "    </tr>\n",
       "    <tr>\n",
       "      <th>India</th>\n",
       "      <td>348448000.0</td>\n",
       "      <td>18.462001</td>\n",
       "    </tr>\n",
       "    <tr>\n",
       "      <th>China</th>\n",
       "      <td>123059739.0</td>\n",
       "      <td>6.520138</td>\n",
       "    </tr>\n",
       "    <tr>\n",
       "      <th>Thailand</th>\n",
       "      <td>87468496.0</td>\n",
       "      <td>4.634389</td>\n",
       "    </tr>\n",
       "    <tr>\n",
       "      <th>Pakistan</th>\n",
       "      <td>65450704.0</td>\n",
       "      <td>3.467809</td>\n",
       "    </tr>\n",
       "  </tbody>\n",
       "</table>\n",
       "</div>"
      ],
      "text/plain": [
       "          Production(Tons)  Production(Tons)_Percentage\n",
       "Country                                                \n",
       "Brazil         768678382.0                    40.727285\n",
       "India          348448000.0                    18.462001\n",
       "China          123059739.0                     6.520138\n",
       "Thailand        87468496.0                     4.634389\n",
       "Pakistan        65450704.0                     3.467809"
      ]
     },
     "execution_count": 172,
     "metadata": {},
     "output_type": "execute_result"
    }
   ],
   "source": [
    "df_new.head()"
   ]
  },
  {
   "cell_type": "code",
   "execution_count": 173,
   "id": "f55503f6-1ed9-4d75-a9e5-a5af6b3976f4",
   "metadata": {},
   "outputs": [
    {
     "data": {
      "text/plain": [
       "<Axes: ylabel='Production(Tons)_Percentage'>"
      ]
     },
     "execution_count": 173,
     "metadata": {},
     "output_type": "execute_result"
    },
    {
     "data": {
      "image/png": "[encoded data removed]",
      "text/plain": [
       "<Figure size 640x480 with 1 Axes>"
      ]
     },
     "metadata": {},
     "output_type": "display_data"
    }
   ],
   "source": [
    "df_new[\"Production(Tons)_Percentage\"].plot(kind=\"pie\",autopct=\"%.2f\")"
   ]
  }
 ],
 "metadata": {
  "kernelspec": {
   "display_name": "Python 3 (ipykernel)",
   "language": "python",
   "name": "python3"
  },
  "language_info": {
   "codemirror_mode": {
    "name": "ipython",
    "version": 3
   },
   "file_extension": ".py",
   "mimetype": "text/x-python",
   "name": "python",
   "nbconvert_exporter": "python",
   "pygments_lexer": "ipython3",
   "version": "3.11.2"
  }
 },
 "nbformat": 4,
 "nbformat_minor": 5
}
